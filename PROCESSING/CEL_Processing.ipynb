{
 "cells": [
  {
   "cell_type": "code",
   "execution_count": 2,
   "id": "04f6b2aa-44ba-4ace-87e7-aedaf8843151",
   "metadata": {},
   "outputs": [],
   "source": [
    "library(biomaRt)"
   ]
  },
  {
   "cell_type": "code",
   "execution_count": 20,
   "id": "3cedca69-c72a-45a6-af68-fcf49392f639",
   "metadata": {},
   "outputs": [],
   "source": [
    "preprocess = function(file){\n",
    "    \n",
    "    library(oligo)\n",
    "    library(gcrma)\n",
    "    library(data.table)\n",
    "    library(biomaRt)\n",
    "    \n",
    "    read = list.celfiles(paste('/directory/', file, sep=''), full.name=TRUE)\n",
    "    read = read.celfiles(read)\n",
    "    read = oligo::rma(read)\n",
    "    read = exprs(read)\n",
    "    \n",
    "    probeIDs = rownames(read)\n",
    "    read = as.data.frame(read)\n",
    "    \n",
    "    read = setDT(read, keep.rownames = TRUE)[]\n",
    "    colnames(read)[1] = 'affy_hg_u133_plus_2'\n",
    "    \n",
    "    mart = useMart(biomart='ENSEMBL_MART_ENSEMBL',\n",
    "                dataset = 'hsapiens_gene_ensembl',\n",
    "                host = 'https://useast.ensembl.org')\n",
    "    \n",
    "    df = getBM(attributes= c('affy_hg_u133_plus_2', 'hgnc_symbol'),\n",
    "               filters = 'affy_hg_u133_plus_2',\n",
    "               values = probeIDs,\n",
    "               mart = mart)\n",
    "    \n",
    "    df_new = merge(df, read, by='affy_hg_u133_plus_2')\n",
    "    df_new = df_new[,-1]\n",
    "    \n",
    "    df_new = df_new[!duplicated(df_new$hgnc_symbol), ]\n",
    "    rownames(df_new) = df_new$hgnc_symbol\n",
    "    \n",
    "    df_new = df_new[,-1]\n",
    "    write.csv(df_new, paste('/directory/', file, '.csv', sep=''))\n",
    "    \n",
    "}"
   ]
  }
 ],
 "metadata": {
  "kernelspec": {
   "display_name": "R",
   "language": "R",
   "name": "ir"
  },
  "language_info": {
   "codemirror_mode": "r",
   "file_extension": ".r",
   "mimetype": "text/x-r-source",
   "name": "R",
   "pygments_lexer": "r",
   "version": "4.2.1"
  }
 },
 "nbformat": 4,
 "nbformat_minor": 5
}
