{
 "cells": [
  {
   "cell_type": "code",
   "execution_count": 61,
   "id": "a0e0b085-4eff-42dc-bf8d-17594a2917af",
   "metadata": {},
   "outputs": [],
   "source": [
    "import os\n",
    "import gudhi\n",
    "import math\n",
    "import dcor\n",
    "import numpy as np\n",
    "import pandas as pd\n",
    "from gudhi import RipsComplex\n",
    "from sklearn import preprocessing\n",
    "from sklearn.pipeline import Pipeline\n",
    "from scipy.stats import pearsonr\n",
    "from gudhi.representations import Landscape, PersistenceImage\n",
    "from sklearn.neural_network import MLPClassifier\n",
    "from sklearn.model_selection import train_test_split\n",
    "from sklearn.preprocessing import quantile_transform\n",
    "from sklearn.metrics import accuracy_score, f1_score, precision_score, recall_score\n",
    "from sklearn.feature_selection import SelectKBest, chi2\n",
    "from sklearn.neural_network import MLPClassifier\n",
    "from sklearn.ensemble import RandomForestClassifier"
   ]
  },
  {
   "cell_type": "code",
   "execution_count": 62,
   "id": "35ca623f-df49-4d1d-a7b4-c6112d0988c3",
   "metadata": {},
   "outputs": [],
   "source": [
    "#READ GENE EXPRESSION MATRICES AS PICKLE FILES"
   ]
  },
  {
   "cell_type": "code",
   "execution_count": null,
   "id": "95152fa1-1b00-46ac-85bb-7c98d33f1ba0",
   "metadata": {},
   "outputs": [],
   "source": [
    "def read_files_rna_dataframe(path, ref):\n",
    "    \n",
    "    labelencoding = preprocessing.LabelEncoder()\n",
    "    \n",
    "    file_directory = '/directory/' + path\n",
    "    df = pd.read_csv(file_directory, sep=',', index_col=0)\n",
    "    \n",
    "    df.index = [ref] * df.shape[0]\n",
    "    \n",
    "    return(df)"
   ]
  },
  {
   "cell_type": "code",
   "execution_count": null,
   "id": "364b6b80-3f34-46d3-a2a3-0f56e1101996",
   "metadata": {},
   "outputs": [],
   "source": [
    "rna_r = read_files_rna_dataframe('rnaseq_folfox_r.csv', 'r')\n",
    "rna_s = read_files_rna_dataframe('rnaseq_folfox_s.csv', 's')"
   ]
  },
  {
   "cell_type": "code",
   "execution_count": 69,
   "id": "5851c3aa-0d69-46b3-ba0c-9b325278eafa",
   "metadata": {},
   "outputs": [],
   "source": [
    "def train_test(case, control):\n",
    "    \n",
    "    labelencoding = preprocessing.LabelEncoder()\n",
    "    df = pd.concat([case, control], axis=0)\n",
    "    \n",
    "    biomarker_genes = '/directory/file.csv'\n",
    "    biomarkers = pd.read_csv(biomarker_genes, index_col=0, sep=';') \n",
    "    biomarkers = biomarkers[\"x\"].to_numpy()  \n",
    "    \n",
    "    gene_exprs_matrix = df[np.intersect1d(df.columns, biomarkers)] #Subset biomarker genes\n",
    "    \n",
    "    train, test = train_test_split(gene_exprs_matrix, test_size=0.3, train_size=0.7, random_state=0, shuffle=True)\n",
    "            \n",
    "    train_labs = labelencoding.fit_transform(train.index.to_list())\n",
    "    test_labs = labelencoding.fit_transform(test.index.to_list())\n",
    "    \n",
    "    return (np.array(train), np.array(test), train_labs, test_labs)"
   ]
  },
  {
   "cell_type": "code",
   "execution_count": 73,
   "id": "326d1d2b-fe88-4c1f-bb7c-74061cc9649a",
   "metadata": {},
   "outputs": [],
   "source": [
    "#Convoluted Neural Network "
   ]
  },
  {
   "cell_type": "code",
   "execution_count": 74,
   "id": "ea947559-a43b-457e-ace6-5729ede0c6f3",
   "metadata": {},
   "outputs": [],
   "source": [
    "from keras.layers import Activation, Dropout, Flatten, Dense\n",
    "from keras.layers import Conv1D, MaxPooling1D\n",
    "import matplotlib.pyplot as plt\n",
    "from tensorflow.keras import layers\n",
    "from keras.models import Sequential\n",
    "from tensorflow import keras\n",
    "import tensorflow as tf\n",
    "from tensorflow.keras.optimizers import SGD\n",
    "from keras import backend as K"
   ]
  },
  {
   "cell_type": "code",
   "execution_count": 75,
   "id": "3ceac69b-2734-4b24-9980-cf0fc487360f",
   "metadata": {},
   "outputs": [],
   "source": [
    "def convoluted(X_train, X_test, y_train, y_test):\n",
    "    \n",
    "    from keras import backend as K\n",
    "    \n",
    "    def recall_m(y_true, y_pred):\n",
    "        true_positives = K.sum(K.round(K.clip(y_true * y_pred, 0, 1)))\n",
    "        possible_positives = K.sum(K.round(K.clip(y_true, 0, 1)))\n",
    "        recall = true_positives / (possible_positives + K.epsilon())\n",
    "        \n",
    "        return recall\n",
    "\n",
    "    def precision_m(y_true, y_pred):\n",
    "        true_positives = K.sum(K.round(K.clip(y_true * y_pred, 0, 1)))\n",
    "        predicted_positives = K.sum(K.round(K.clip(y_pred, 0, 1)))\n",
    "        precision = true_positives / (predicted_positives + K.epsilon())\n",
    "        \n",
    "        return precision\n",
    "\n",
    "    def f1_m(y_true, y_pred):\n",
    "        precision = precision_m(y_true, y_pred)\n",
    "        recall = recall_m(y_true, y_pred)\n",
    "        \n",
    "        return 2*((precision*recall)/(precision+recall+K.epsilon()))\n",
    "        \n",
    "    X_train = np.expand_dims(X_train, axis=2).astype('float32')\n",
    "    X_test = np.expand_dims(X_test, axis=2).astype('float32')\n",
    "    \n",
    "    model = Sequential()\n",
    "\n",
    "    model.add(Conv1D(filters=1024, kernel_size=2, activation='relu', input_shape=(X_train.shape[1], X_train.shape[2])))\n",
    "    model.add(Conv1D(filters=128, kernel_size=2, activation='relu'))\n",
    "    model.add(Conv1D(filters=16, kernel_size=2, activation='relu'))\n",
    "    model.add(Dropout(0.5))\n",
    "    \n",
    "    model.add(MaxPooling1D(pool_size=2))\n",
    "    model.add(Flatten())\n",
    "    \n",
    "    model.add(Dense(8, activation='relu'))\n",
    "    model.add(Dense(1, activation='relu'))\n",
    "    \n",
    "    \n",
    "    model.compile(loss='binary_crossentropy', optimizer='adam', metrics=['accuracy',f1_m,precision_m, recall_m])\n",
    "    keras.utils.plot_model(model, \"multi_input_and_output_model.png\", show_shapes=True)\n",
    "    \n",
    "    history = model.fit(X_train, y_train, epochs = 30, shuffle=True, verbose=0)\n",
    "    loss, accuracy, f1_score, precision, recall = model.evaluate(X_test, y_test, verbose=0)\n",
    "    \n",
    "    scores = np.array([f1_score*100, recall*100, precision*100, accuracy*100])\n",
    "    \n",
    "    return scores\n",
    "    "
   ]
  },
  {
   "cell_type": "code",
   "execution_count": null,
   "id": "281313f0-0285-412e-93cb-37b58c48ef38",
   "metadata": {},
   "outputs": [],
   "source": [
    "metrics = pd.DataFrame(all_metrics,\n",
    "             index=['GSE81653', 'Array', 'RNASeq'], \n",
    "             columns=['F1 Score Macro', 'Recall', 'Precision', 'Accuracy'])"
   ]
  },
  {
   "cell_type": "code",
   "execution_count": 81,
   "id": "1c96ddd6-5229-46bc-97ae-4c8380e4bb67",
   "metadata": {},
   "outputs": [],
   "source": [
    "def MLPClass(X_train, X_test, y_train, y_test):\n",
    "    \n",
    "    from sklearn.neural_network import MLPClassifier\n",
    "    \n",
    "    clf = MLPClassifier(random_state=1, max_iter=2000).fit(X_train, y_train)\n",
    "    y_pred = clf.predict(X_test)\n",
    "    \n",
    "    f1 = f1_score(y_test, y_pred, average=\"macro\")\n",
    "    pr = precision_score(y_test, y_pred, average=\"macro\")\n",
    "    re = recall_score(y_test, y_pred, average=\"macro\")\n",
    "    acc = accuracy_score(y_test, y_pred)\n",
    "    \n",
    "    scores = np.array([f1*100, re*100, pr*100, acc*100])\n",
    "    return scores"
   ]
  },
  {
   "cell_type": "code",
   "execution_count": null,
   "id": "25aa13f5-3569-4955-9d5a-31c6ec381fe7",
   "metadata": {},
   "outputs": [],
   "source": [
    "metrics = pd.DataFrame(all_metrics,\n",
    "                       index=['GSE81653', 'Array', 'RNASeq'], \n",
    "                       columns=['F1 Score Macro', 'Recall', 'Precision', 'Accuracy'])"
   ]
  },
  {
   "cell_type": "code",
   "execution_count": 87,
   "id": "7b3b12f6-5e0d-40bd-aa1d-0f9b62f17123",
   "metadata": {},
   "outputs": [],
   "source": [
    "def RFClass(X_train, X_test, y_train, y_test):\n",
    "    \n",
    "    from sklearn.ensemble import RandomForestClassifier\n",
    "    \n",
    "    clf = RandomForestClassifier(max_depth=100, random_state=0).fit(X_train, y_train)\n",
    "    y_pred = clf.predict(X_test)\n",
    "    \n",
    "    f1 = f1_score(y_test, y_pred, average=\"macro\")\n",
    "    pr = precision_score(y_test, y_pred, average=\"macro\")\n",
    "    re = recall_score(y_test, y_pred, average=\"macro\")\n",
    "    acc = accuracy_score(y_test, y_pred)\n",
    "    \n",
    "    scores = np.array([f1*100, re*100, pr*100, acc*100])\n",
    "    return scores"
   ]
  },
  {
   "cell_type": "code",
   "execution_count": null,
   "id": "01216837-8e0b-408c-af43-d53ae794c714",
   "metadata": {},
   "outputs": [],
   "source": [
    "metrics = pd.DataFrame(all_metrics,\n",
    "                       index=['GSE81653', 'Array', 'RNASeq'], \n",
    "                       columns=['F1 Score Macro', 'Recall', 'Precision', 'Accuracy'])"
   ]
  }
 ],
 "metadata": {
  "kernelspec": {
   "display_name": "Python 3 (ipykernel)",
   "language": "python",
   "name": "python3"
  },
  "language_info": {
   "codemirror_mode": {
    "name": "ipython",
    "version": 3
   },
   "file_extension": ".py",
   "mimetype": "text/x-python",
   "name": "python",
   "nbconvert_exporter": "python",
   "pygments_lexer": "ipython3",
   "version": "3.9.10"
  }
 },
 "nbformat": 4,
 "nbformat_minor": 5
}
