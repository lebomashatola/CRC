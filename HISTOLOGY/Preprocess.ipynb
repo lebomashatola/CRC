{
 "cells": [
  {
   "cell_type": "code",
   "execution_count": 3,
   "id": "c018a097-7637-400d-992e-46917ab18b86",
   "metadata": {},
   "outputs": [],
   "source": [
    "import os \n",
    "import openslide"
   ]
  },
  {
   "cell_type": "code",
   "execution_count": 59,
   "id": "cac98ed9-e13e-4c56-9589-8dc1a9a49d75",
   "metadata": {},
   "outputs": [],
   "source": [
    "def segmentation(inputP, stage):\n",
    "        \n",
    "    directory = '/media/lebo/Seagate/LEBO/' + inputP\n",
    "    \n",
    "    for file in os.listdir(directory):\n",
    "        \n",
    "        filename = os.fsdecode(file)\n",
    "        read_data = directory + '/' + filename\n",
    "        \n",
    "        try:\n",
    "            files = os.listdir(read_data)\n",
    "            \n",
    "        except:\n",
    "            continue\n",
    "        \n",
    "        for i in files:\n",
    "            \n",
    "            if i.endswith(\".svs\"):\n",
    "                \n",
    "                image_in = '/media/lebo/Seagate/LEBO/' +  inputP + '/' + file  + '/' + i\n",
    "                os.system('python3 pyhist.py --method \"graph\" --patch-size 64 --output-downsample 16 --content-threshold 0.8 --k-const 1024 --save-patches --save-tilecrossed-image --output ' + stage + '/' + ' ' + image_in)\n"
   ]
  },
  {
   "cell_type": "code",
   "execution_count": 58,
   "id": "f7ba62f5-f9b7-4bbd-9c6f-8aed08c23b05",
   "metadata": {},
   "outputs": [],
   "source": [
    "from shutil import copyfile\n",
    "import os\n",
    "\n",
    "source = \"/home/lebo/PyHIST/training/stage\"\n",
    "dest = \"/home/lebo/PyHIST/training/stg\"\n",
    "\n",
    "for file in os.listdir(source):\n",
    "    \n",
    "    filename = os.fsdecode(file)\n",
    "    read_data = source + '/' + filename\n",
    "    \n",
    "    for image in os.listdir(read_data):\n",
    "        \n",
    "        if (\"_tiles\" in image):\n",
    "            soc = read_data + '/' + image\n",
    "            imgs = os.listdir(soc)\n",
    "            \n",
    "            for i in imgs:\n",
    "                os.system('mv ' + soc + '/' + i + ' ' + dest)"
   ]
  },
  {
   "cell_type": "code",
   "execution_count": null,
   "id": "0ed58bdc-6688-4ee4-8a18-cd0be0ecb16c",
   "metadata": {},
   "outputs": [],
   "source": []
  }
 ],
 "metadata": {
  "kernelspec": {
   "display_name": "Python 3 (ipykernel)",
   "language": "python",
   "name": "python3"
  },
  "language_info": {
   "codemirror_mode": {
    "name": "ipython",
    "version": 3
   },
   "file_extension": ".py",
   "mimetype": "text/x-python",
   "name": "python",
   "nbconvert_exporter": "python",
   "pygments_lexer": "ipython3",
   "version": "3.9.10"
  }
 },
 "nbformat": 4,
 "nbformat_minor": 5
}
