{
 "cells": [
  {
   "cell_type": "code",
   "execution_count": 39,
   "id": "912e45ee-a401-4a3e-ae02-a8f8a3fb67a3",
   "metadata": {},
   "outputs": [],
   "source": [
    "from tensorflow.keras.layers import Dense, Flatten, BatchNormalization, Conv2D, MaxPool2D\n",
    "from tensorflow.keras.preprocessing.image import ImageDataGenerator\n",
    "from tensorflow.keras.metrics import categorical_crossentropy\n",
    "from sklearn.metrics import plot_confusion_matrix\n",
    "from tensorflow.keras.models import Sequential\n",
    "from matplotlib import pyplot as plt\n",
    "from tensorflow.keras.optimizers import Adam\n",
    "from tensorflow.keras.models import Model\n",
    "from sklearn.metrics import confusion_matrix\n",
    "import scipy\n",
    "import scipy.integrate \n",
    "from IPython.display import Image\n",
    "from keras import backend as K\n",
    "from tensorflow import keras\n",
    "import tensorflow as tf\n",
    "import numpy as np\n",
    "import itertools\n",
    "import glob\n",
    "import os"
   ]
  },
  {
   "cell_type": "code",
   "execution_count": 40,
   "id": "6da1d40f-b7bd-422b-a76b-ef4cbfe6a7e7",
   "metadata": {},
   "outputs": [],
   "source": [
    "class Prediction_Histology:\n",
    "\n",
    "    def __init__(self, image_gen, shape, model_call, rm):\n",
    "\n",
    "        self.image_gen = image_gen\n",
    "        self.shape = shape\n",
    "        self.model_call = model_call\n",
    "        self.rm = rm\n",
    "        \n",
    "\n",
    "    def preprocess(self):  \n",
    "\n",
    "        os.chdir('/home/lebo/PyHIST')\n",
    "\n",
    "        train_path = '/home/lebo/PyHIST/training'\n",
    "        test_path = '/home/lebo/PyHIST/testing'\n",
    "        validation_path = '/home/lebo/PyHIST/validation'\n",
    "\n",
    "                \n",
    "        train_path = ImageDataGenerator(preprocessing_function=self.image_gen) \\\n",
    "        .flow_from_directory(directory=train_path, target_size=self.shape,\n",
    "        classes=['stg1', 'stg23', 'stg4'], batch_size=15)\n",
    "        \n",
    "        validation_batch = ImageDataGenerator(preprocessing_function=self.image_gen) \\\n",
    "        .flow_from_directory(directory=validation_path, target_size=self.shape,\n",
    "        classes=['stg1', 'stg23', 'stg4'], batch_size=15)\n",
    "        \n",
    "        test_batch = ImageDataGenerator(preprocessing_function=self.image_gen) \\\n",
    "        .flow_from_directory(directory=test_path, target_size=self.shape,\n",
    "        classes=['stg1', 'stg23', 'stg4'], batch_size=15)\n",
    "\n",
    "    \n",
    "        imgs, labels = next(train_batch)\n",
    "        x = self.model_call.layers[self.rm].output\n",
    "\n",
    "        config = tf.compat.v1.ConfigProto(intra_op_parallelism_threads=12,\n",
    "                                inter_op_parallelism_threads=6,\n",
    "                                allow_soft_placement=True,\n",
    "                                device_count = {'CPU': 12})\n",
    "\n",
    "        session = tf.compat.v1.Session(config=config)\n",
    "\n",
    "        os.environ[\"6\"] = \"6\"\n",
    "        os.environ[\"10\"] = \"30\"\n",
    "        os.environ[\"KMP_SETTINGS\"] = \"1\"\n",
    "        os.environ[\"KMP_AFFINITY\"]= \"granularity=fine,verbose,compact,1,0\"\n",
    "\n",
    "        output = Dense(units=3, activation='softmax')(x)\n",
    "        model = Model(inputs=self.model_call.input, outputs=output)\n",
    "\n",
    "        model.compile(optimizer=Adam(learning_rate=0.0001),\n",
    "                            loss='categorical_crossentropy', metrics=['accuracy'])\n",
    "\n",
    "        history = model.fit(x=train_batch, validation_data=validate_batch, epochs=2, verbose=1)\n",
    "        predictions = model.predict(x=validate_batch, verbose=0)\n"
   ]
  },
  {
   "cell_type": "code",
   "execution_count": 41,
   "id": "ee98c91a-e35d-4d1f-9cd3-5f8a0c21a378",
   "metadata": {},
   "outputs": [],
   "source": [
    "mobile_preprocess = tf.keras.applications.mobilenet.preprocess_input"
   ]
  },
  {
   "cell_type": "code",
   "execution_count": 42,
   "id": "d27c8b9c-a056-471f-84c8-dd35b921dc24",
   "metadata": {},
   "outputs": [],
   "source": [
    "mobileNet = tf.keras.applications.mobilenet.MobileNet()"
   ]
  },
  {
   "cell_type": "code",
   "execution_count": 43,
   "id": "09d0f22a-4219-45bf-b1a2-e37b81932ca5",
   "metadata": {},
   "outputs": [],
   "source": [
    "hist_mobile = Prediction_Histology(mobile_preprocess, (224,224), mobileNet, -2)"
   ]
  },
  {
   "cell_type": "code",
   "execution_count": null,
   "id": "ab2ab1f0-850e-48f0-9469-30a1d34d3cd1",
   "metadata": {},
   "outputs": [],
   "source": [
    "hist_mobile.preprocess()"
   ]
  }
 ],
 "metadata": {
  "kernelspec": {
   "display_name": "Python 3 (ipykernel)",
   "language": "python",
   "name": "python3"
  },
  "language_info": {
   "codemirror_mode": {
    "name": "ipython",
    "version": 3
   },
   "file_extension": ".py",
   "mimetype": "text/x-python",
   "name": "python",
   "nbconvert_exporter": "python",
   "pygments_lexer": "ipython3",
   "version": "3.9.10"
  }
 },
 "nbformat": 4,
 "nbformat_minor": 5
}
